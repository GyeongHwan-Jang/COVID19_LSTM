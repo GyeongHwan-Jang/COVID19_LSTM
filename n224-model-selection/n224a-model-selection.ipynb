{
  "cells": [
    {
      "cell_type": "markdown",
      "metadata": {
        "id": "Af0XksYgfD0z"
      },
      "source": [
        "<img align=\"right\" src=\"https://ds-cs-images.s3.ap-northeast-2.amazonaws.com/Codestates_Fulllogo_Color.png\" width=100>\n",
        "\n",
        "## *AIB / SECTION 2 / SPRINT 2 / NOTE 4*\n",
        "\n",
        "# 📝 Assignment\n",
        "---"
      ]
    },
    {
      "cell_type": "markdown",
      "metadata": {
        "id": "poh_22DQfD03"
      },
      "source": [
        "# 모델선택(Model Selection)\n",
        "\n",
        "### 1) 캐글 대회를 이어서 진행합니다. RandomizedSearchCV 를 사용하여 하이퍼파라미터 튜닝을 진행합니다.\n",
        "\n",
        "- [RandomForestClassifier](https://scikit-learn.org/stable/modules/generated/sklearn.ensemble.RandomForestClassifier.html)를 사용하세요.\n",
        "- 분류문제에서 맞는 [scoring parameter](https://scikit-learn.org/stable/modules/model_evaluation.html#common-cases-predefined-values) metric을 사용하세요.\n",
        "- [OrdinalEncoder](https://contrib.scikit-learn.org/categorical-encoding/ordinal.html) 사용을 권합니다.\n",
        "- RandomizedSearchCV 를 사용해서 하이퍼파라미터 튜닝을 진행하고 최고 성능을 보이는 모델로 예측을 진행한 후 캐글에 제출합니다.\n",
        "- **(Urclass Quiz) 캐글 Leaderboard에서 개선된 본인 Score를 과제 제출폼에 제출하세요.**"
      ]
    },
    {
      "cell_type": "code",
      "execution_count": null,
      "metadata": {
        "colab": {
          "base_uri": "https://localhost:8080/"
        },
        "id": "S-Rx3VyGqi6_",
        "outputId": "8d2de7dc-080a-4005-ad9d-856035f51c4b"
      },
      "outputs": [
        {
          "name": "stdout",
          "output_type": "stream",
          "text": [
            "Collecting category_encoders\n",
            "  Downloading category_encoders-2.3.0-py2.py3-none-any.whl (82 kB)\n",
            "     |████████████████████████████████| 82 kB 119 kB/s             \n",
            "\u001b[?25hRequirement already satisfied: scipy>=1.0.0 in /root/.pyenv/versions/3.8.1/lib/python3.8/site-packages (from category_encoders) (1.4.1)\n",
            "Requirement already satisfied: scikit-learn>=0.20.0 in /root/.pyenv/versions/3.8.1/lib/python3.8/site-packages (from category_encoders) (0.23.1)\n",
            "Requirement already satisfied: statsmodels>=0.9.0 in /root/.pyenv/versions/3.8.1/lib/python3.8/site-packages (from category_encoders) (0.11.1)\n",
            "Requirement already satisfied: patsy>=0.5.1 in /root/.pyenv/versions/3.8.1/lib/python3.8/site-packages (from category_encoders) (0.5.1)\n",
            "Requirement already satisfied: pandas>=0.21.1 in /root/.pyenv/versions/3.8.1/lib/python3.8/site-packages (from category_encoders) (1.1.2)\n",
            "Requirement already satisfied: numpy>=1.14.0 in /root/.pyenv/versions/3.8.1/lib/python3.8/site-packages (from category_encoders) (1.18.2)\n",
            "Requirement already satisfied: pytz>=2017.2 in /root/.pyenv/versions/3.8.1/lib/python3.8/site-packages (from pandas>=0.21.1->category_encoders) (2019.3)\n",
            "Requirement already satisfied: python-dateutil>=2.7.3 in /root/.pyenv/versions/3.8.1/lib/python3.8/site-packages (from pandas>=0.21.1->category_encoders) (2.8.1)\n",
            "Requirement already satisfied: six in /root/.pyenv/versions/3.8.1/lib/python3.8/site-packages (from patsy>=0.5.1->category_encoders) (1.13.0)\n",
            "Requirement already satisfied: threadpoolctl>=2.0.0 in /root/.pyenv/versions/3.8.1/lib/python3.8/site-packages (from scikit-learn>=0.20.0->category_encoders) (2.1.0)\n",
            "Requirement already satisfied: joblib>=0.11 in /root/.pyenv/versions/3.8.1/lib/python3.8/site-packages (from scikit-learn>=0.20.0->category_encoders) (0.15.1)\n",
            "Installing collected packages: category-encoders\n",
            "Successfully installed category-encoders-2.3.0\n",
            "\u001b[33mWARNING: Running pip as the 'root' user can result in broken permissions and conflicting behaviour with the system package manager. It is recommended to use a virtual environment instead: https://pip.pypa.io/warnings/venv\u001b[0m\n",
            "\u001b[33mWARNING: You are using pip version 21.3; however, version 22.0.4 is available.\n",
            "You should consider upgrading via the '/root/.pyenv/versions/3.8.1/bin/python3.8 -m pip install --upgrade pip' command.\u001b[0m\n"
          ]
        }
      ],
      "source": [
        "!pip install category_encoders"
      ]
    },
    {
      "cell_type": "code",
      "execution_count": null,
      "metadata": {
        "colab": {
          "base_uri": "https://localhost:8080/"
        },
        "id": "Fk0N61cwfD04",
        "outputId": "792e5548-b8cb-4998-c68d-5d434f67db82"
      },
      "outputs": [
        {
          "name": "stderr",
          "output_type": "stream",
          "text": [
            "/root/.pyenv/versions/3.8.1/lib/python3.8/site-packages/pandas/compat/__init__.py:120: UserWarning: Could not import the lzma module. Your installed Python is incomplete. Attempting to use lzma compression will result in a RuntimeError.\n",
            "  warnings.warn(msg)\n"
          ]
        }
      ],
      "source": [
        "# 패키지 호출\n",
        "import pandas as pd\n",
        "import numpy as np\n",
        "from sklearn.model_selection import train_test_split\n",
        "from sklearn.model_selection import cross_val_score\n",
        "from sklearn.pipeline import Pipeline\n",
        "from category_encoders import OrdinalEncoder\n",
        "from sklearn.impute import SimpleImputer\n",
        "from sklearn.ensemble import RandomForestClassifier\n",
        "from sklearn.metrics import accuracy_score\n",
        "from sklearn.metrics import f1_score\n",
        "from sklearn.model_selection import RandomizedSearchCV\n",
        "from sklearn.model_selection import GridSearchCV\n",
        "\n",
        "import matplotlib.pyplot as plt\n",
        "from sklearn.metrics import ConfusionMatrixDisplay"
      ]
    },
    {
      "cell_type": "code",
      "execution_count": null,
      "metadata": {
        "id": "vUmjhjDJqOPT"
      },
      "outputs": [],
      "source": [
        "# 데이터 호출\n",
        "target = \"vacc_h1n1_f\"\n",
        "\n",
        "train = pd.merge(pd.read_csv(\"train.csv\"),\n",
        "                 pd.read_csv(\"train_labels.csv\", usecols = [0])[target], left_index = True, right_index = True)\n",
        "X_test = pd.read_csv(\"test.csv\")\n",
        "y_test = pd.read_csv(\"submission.csv\", index_col = [0])"
      ]
    },
    {
      "cell_type": "code",
      "execution_count": null,
      "metadata": {
        "colab": {
          "base_uri": "https://localhost:8080/"
        },
        "id": "Q4bATYKbrlRn",
        "outputId": "6d76eb56-55e1-4a0f-b6a2-25f52550c78a"
      },
      "outputs": [
        {
          "name": "stdout",
          "output_type": "stream",
          "text": [
            "<class 'pandas.core.frame.DataFrame'>\n",
            "RangeIndex: 42154 entries, 0 to 42153\n",
            "Data columns (total 39 columns):\n",
            " #   Column                       Non-Null Count  Dtype  \n",
            "---  ------                       --------------  -----  \n",
            " 0   h1n1_concern                 33734 non-null  float64\n",
            " 1   h1n1_knowledge               33734 non-null  float64\n",
            " 2   behavioral_antiviral_meds    33635 non-null  float64\n",
            " 3   behavioral_avoidance         33482 non-null  float64\n",
            " 4   behavioral_face_mask         33710 non-null  float64\n",
            " 5   behavioral_wash_hands        33683 non-null  float64\n",
            " 6   behavioral_large_gatherings  33640 non-null  float64\n",
            " 7   behavioral_outside_home      33633 non-null  float64\n",
            " 8   behavioral_touch_face        33571 non-null  float64\n",
            " 9   doctor_recc_h1n1             40269 non-null  float64\n",
            " 10  doctor_recc_seasonal         40269 non-null  float64\n",
            " 11  chronic_med_condition        40837 non-null  float64\n",
            " 12  child_under_6_months         32705 non-null  float64\n",
            " 13  health_insurance             22733 non-null  float64\n",
            " 14  health_worker                32724 non-null  float64\n",
            " 15  opinion_h1n1_vacc_effective  33375 non-null  object \n",
            " 16  opinion_h1n1_risk            33329 non-null  object \n",
            " 17  opinion_h1n1_sick_from_vacc  33285 non-null  object \n",
            " 18  opinion_seas_vacc_effective  33220 non-null  object \n",
            " 19  opinion_seas_risk            33153 non-null  object \n",
            " 20  opinion_seas_sick_from_vacc  33089 non-null  object \n",
            " 21  agegrp                       42154 non-null  object \n",
            " 22  education_comp               31988 non-null  float64\n",
            " 23  raceeth4_i                   42154 non-null  int64  \n",
            " 24  sex_i                        42154 non-null  int64  \n",
            " 25  inc_pov                      42154 non-null  int64  \n",
            " 26  marital                      31955 non-null  float64\n",
            " 27  rent_own_r                   39958 non-null  float64\n",
            " 28  employment_status            31876 non-null  object \n",
            " 29  census_region                42154 non-null  int64  \n",
            " 30  census_msa                   42154 non-null  object \n",
            " 31  n_adult_r                    41845 non-null  float64\n",
            " 32  household_children           41845 non-null  float64\n",
            " 33  n_people_r                   42020 non-null  float64\n",
            " 34  employment_industry          17165 non-null  object \n",
            " 35  employment_occupation        17165 non-null  object \n",
            " 36  hhs_region                   42154 non-null  int64  \n",
            " 37  state                        42154 non-null  object \n",
            " 38  vacc_h1n1_f                  42154 non-null  int64  \n",
            "dtypes: float64(21), int64(6), object(12)\n",
            "memory usage: 12.5+ MB\n"
          ]
        }
      ],
      "source": [
        "# 학습 데이터 확인\n",
        "train.info()"
      ]
    },
    {
      "cell_type": "code",
      "execution_count": null,
      "metadata": {
        "colab": {
          "base_uri": "https://localhost:8080/"
        },
        "id": "SPRrMNV5rnrq",
        "outputId": "45a87c9c-3b1d-4a00-b622-0e9eaf3a6fff"
      },
      "outputs": [
        {
          "name": "stdout",
          "output_type": "stream",
          "text": [
            "<class 'pandas.core.frame.DataFrame'>\n",
            "RangeIndex: 28104 entries, 0 to 28103\n",
            "Data columns (total 38 columns):\n",
            " #   Column                       Non-Null Count  Dtype  \n",
            "---  ------                       --------------  -----  \n",
            " 0   h1n1_concern                 22492 non-null  float64\n",
            " 1   h1n1_knowledge               22492 non-null  float64\n",
            " 2   behavioral_antiviral_meds    22432 non-null  float64\n",
            " 3   behavioral_avoidance         22294 non-null  float64\n",
            " 4   behavioral_face_mask         22478 non-null  float64\n",
            " 5   behavioral_wash_hands        22456 non-null  float64\n",
            " 6   behavioral_large_gatherings  22421 non-null  float64\n",
            " 7   behavioral_outside_home      22422 non-null  float64\n",
            " 8   behavioral_touch_face        22384 non-null  float64\n",
            " 9   doctor_recc_h1n1             26897 non-null  float64\n",
            " 10  doctor_recc_seasonal         26897 non-null  float64\n",
            " 11  chronic_med_condition        27250 non-null  float64\n",
            " 12  child_under_6_months         21813 non-null  float64\n",
            " 13  health_insurance             15364 non-null  float64\n",
            " 14  health_worker                21834 non-null  float64\n",
            " 15  opinion_h1n1_vacc_effective  22240 non-null  object \n",
            " 16  opinion_h1n1_risk            22201 non-null  object \n",
            " 17  opinion_h1n1_sick_from_vacc  22171 non-null  object \n",
            " 18  opinion_seas_vacc_effective  22147 non-null  object \n",
            " 19  opinion_seas_risk            22111 non-null  object \n",
            " 20  opinion_seas_sick_from_vacc  22069 non-null  object \n",
            " 21  agegrp                       28104 non-null  object \n",
            " 22  education_comp               21293 non-null  float64\n",
            " 23  raceeth4_i                   28104 non-null  int64  \n",
            " 24  sex_i                        28104 non-null  int64  \n",
            " 25  inc_pov                      28104 non-null  int64  \n",
            " 26  marital                      21281 non-null  float64\n",
            " 27  rent_own_r                   26664 non-null  float64\n",
            " 28  employment_status            21274 non-null  object \n",
            " 29  census_region                28104 non-null  int64  \n",
            " 30  census_msa                   28104 non-null  object \n",
            " 31  n_adult_r                    27919 non-null  float64\n",
            " 32  household_children           27919 non-null  float64\n",
            " 33  n_people_r                   28020 non-null  float64\n",
            " 34  employment_industry          11433 non-null  object \n",
            " 35  employment_occupation        11433 non-null  object \n",
            " 36  hhs_region                   28104 non-null  int64  \n",
            " 37  state                        28104 non-null  object \n",
            "dtypes: float64(21), int64(5), object(12)\n",
            "memory usage: 8.1+ MB\n"
          ]
        }
      ],
      "source": [
        "# 테스트 데이터 확인\n",
        "X_test.info()"
      ]
    },
    {
      "cell_type": "code",
      "execution_count": null,
      "metadata": {
        "id": "MYr_PBXsu7Q8"
      },
      "outputs": [],
      "source": [
        "# 특성공학 진행 (behavioral관련 행 추가 및 seasional항 제거)\n",
        "def FeatureEngineering(df):\n",
        "  label_b = [col for col in df.columns if \"behavioral\" in col]\n",
        "  df[\"behavioral_total\"] = df[label_b].sum(axis = 1)\n",
        "  \n",
        "  label_s = [col for col in df.columns if \"sea\" in col]\n",
        "  df = df.drop(columns = label_s)\n",
        "  return \n",
        "\n",
        "FeatureEngineering(train)\n",
        "FeatureEngineering(X_test)"
      ]
    },
    {
      "cell_type": "code",
      "execution_count": null,
      "metadata": {
        "id": "iaC3P5-myOOs"
      },
      "outputs": [],
      "source": [
        "# 학습데이터 타겟 분류\n",
        "X_train = train.drop(columns = target)\n",
        "y_train = train[target]"
      ]
    },
    {
      "cell_type": "code",
      "execution_count": null,
      "metadata": {
        "id": "nJxWLnzXq8uz"
      },
      "outputs": [],
      "source": [
        "# 모델 파이프 형성\n",
        "pipe = Pipeline([\n",
        "    (\"ordinalencoder\", OrdinalEncoder()),\n",
        "    (\"simpleimputer\", SimpleImputer(strategy = \"constant\", fill_value = 0)),\n",
        "    (\"randomforestclassifier\", RandomForestClassifier(n_estimators = 100, random_state = 29, n_jobs = -1))\n",
        "    ])"
      ]
    },
    {
      "cell_type": "code",
      "execution_count": null,
      "metadata": {
        "colab": {
          "base_uri": "https://localhost:8080/"
        },
        "id": "ULy9YPd70pBE",
        "outputId": "a05f35ec-c863-4dde-db4e-e6cc145c3f06"
      },
      "outputs": [
        {
          "name": "stdout",
          "output_type": "stream",
          "text": [
            "f1 score mean for {k} folds: 0.5540963759960126\n",
            "f1 score std for {k} folds: 0.001075314902438931\n"
          ]
        }
      ],
      "source": [
        "# k교차검정 확인\n",
        "k = 3\n",
        "scores = cross_val_score(pipe, X_train, y_train, cv = k, scoring = \"f1\")\n",
        "print('f1 score mean for {k} folds:', scores.mean())\n",
        "print('f1 score std for {k} folds:', scores.std())"
      ]
    },
    {
      "cell_type": "code",
      "execution_count": null,
      "metadata": {
        "colab": {
          "base_uri": "https://localhost:8080/"
        },
        "id": "q8b9olelOzdx",
        "outputId": "48238ccc-8195-45c0-fc4f-00b6453eaced"
      },
      "outputs": [
        {
          "name": "stdout",
          "output_type": "stream",
          "text": [
            "Fitting 3 folds for each of 48 candidates, totalling 144 fits\n"
          ]
        },
        {
          "name": "stderr",
          "output_type": "stream",
          "text": [
            "[Parallel(n_jobs=-1)]: Using backend LokyBackend with 16 concurrent workers.\n",
            "[Parallel(n_jobs=-1)]: Done  18 tasks      | elapsed:   10.3s\n",
            "[Parallel(n_jobs=-1)]: Done 144 out of 144 | elapsed:  1.5min finished\n"
          ]
        },
        {
          "data": {
            "text/plain": [
              "GridSearchCV(cv=3,\n",
              "             estimator=Pipeline(steps=[('ordinalencoder', OrdinalEncoder()),\n",
              "                                       ('simpleimputer',\n",
              "                                        SimpleImputer(fill_value=0,\n",
              "                                                      strategy='constant')),\n",
              "                                       ('randomforestclassifier',\n",
              "                                        RandomForestClassifier(n_jobs=-1,\n",
              "                                                               random_state=29))]),\n",
              "             n_jobs=-1,\n",
              "             param_grid={'randomforestclassifier__max_depth': range(10, 30, 5),\n",
              "                         'randomforestclassifier__n_estimators': range(100, 400, 100),\n",
              "                         'simpleimputer__strategy': ['mean', 'median',\n",
              "                                                     'most_frequent',\n",
              "                                                     'constant']},\n",
              "             scoring='f1', verbose=1)"
            ]
          },
          "execution_count": 9,
          "metadata": {},
          "output_type": "execute_result"
        }
      ],
      "source": [
        "# Grid Search를 통해 튜닝할 하이퍼파라미터의 범위 지정\n",
        "dists = {\n",
        "    \"simpleimputer__strategy\": [\"mean\", \"median\", \"most_frequent\", \"constant\"], \n",
        "    \"randomforestclassifier__n_estimators\" : range(100,400, 100),\n",
        "    \"randomforestclassifier__max_depth\" : range(10,30, 5)\n",
        "    }\n",
        "\n",
        "k = 3\n",
        "\n",
        "# 하이퍼 파라미터 튜닝\n",
        "gscv = GridSearchCV(\n",
        "    pipe,\n",
        "    param_grid = dists, \n",
        "    cv = k,\n",
        "    scoring = 'f1',\n",
        "    verbose = 1,\n",
        "    n_jobs = -1\n",
        "    )\n",
        "\n",
        "gscv.fit(X_train, y_train)"
      ]
    },
    {
      "cell_type": "code",
      "execution_count": null,
      "metadata": {
        "colab": {
          "base_uri": "https://localhost:8080/"
        },
        "id": "3hClZL14P4o8",
        "outputId": "8acbb5a6-5760-48c5-a220-a0a94a8170dc"
      },
      "outputs": [
        {
          "name": "stdout",
          "output_type": "stream",
          "text": [
            "최적 하이퍼파라미터:  {'randomforestclassifier__max_depth': 15, 'randomforestclassifier__n_estimators': 100, 'simpleimputer__strategy': 'mean'}\n",
            "f1:  0.5615310771339748\n"
          ]
        }
      ],
      "source": [
        "# 튜닝된 하이퍼파라미터 확인\n",
        "print('최적 하이퍼파라미터: ', gscv.best_params_)\n",
        "print('f1: ', gscv.best_score_)"
      ]
    },
    {
      "cell_type": "code",
      "execution_count": null,
      "metadata": {
        "colab": {
          "base_uri": "https://localhost:8080/"
        },
        "id": "J00lFrKT1bK_",
        "outputId": "55b177cd-3412-48fc-fe41-e202892a96da"
      },
      "outputs": [
        {
          "name": "stdout",
          "output_type": "stream",
          "text": [
            "Fitting 3 folds for each of 50 candidates, totalling 150 fits\n"
          ]
        },
        {
          "name": "stderr",
          "output_type": "stream",
          "text": [
            "[Parallel(n_jobs=-1)]: Using backend LokyBackend with 16 concurrent workers.\n",
            "[Parallel(n_jobs=-1)]: Done   9 tasks      | elapsed:    4.4s\n",
            "[Parallel(n_jobs=-1)]: Done 150 out of 150 | elapsed:   43.5s finished\n"
          ]
        },
        {
          "data": {
            "text/plain": [
              "RandomizedSearchCV(cv=3,\n",
              "                   estimator=Pipeline(steps=[('ordinalencoder',\n",
              "                                              OrdinalEncoder()),\n",
              "                                             ('simpleimputer',\n",
              "                                              SimpleImputer(fill_value=0,\n",
              "                                                            strategy='constant')),\n",
              "                                             ('randomforestclassifier',\n",
              "                                              RandomForestClassifier(n_jobs=-1,\n",
              "                                                                     random_state=29))]),\n",
              "                   n_iter=50, n_jobs=-1,\n",
              "                   param_distributions={'randomforestclassifier__max_depth': range(10, 20),\n",
              "                                        'randomforestclassifier__n_estimators': range(50, 150),\n",
              "                                        'simpleimputer__strategy': ['mean',\n",
              "                                                                    'median',\n",
              "                                                                    'most_frequent',\n",
              "                                                                    'constant']},\n",
              "                   scoring='f1', verbose=2)"
            ]
          },
          "execution_count": 11,
          "metadata": {},
          "output_type": "execute_result"
        }
      ],
      "source": [
        "# Random Search를 통해 튜닝할 하이퍼파라미터의 범위 지정\n",
        "dists = {\n",
        "    \"simpleimputer__strategy\": [\"mean\", \"median\", \"most_frequent\", \"constant\"], \n",
        "    \"randomforestclassifier__n_estimators\" : range(50,150),\n",
        "    \"randomforestclassifier__max_depth\" : range(10,20)\n",
        "    }\n",
        "    \n",
        "k = 3\n",
        "\n",
        "# 하이퍼 파라미터 튜닝\n",
        "clf = RandomizedSearchCV(\n",
        "    pipe,\n",
        "    param_distributions = dists, \n",
        "    n_iter = 50,\n",
        "    cv = k,\n",
        "    scoring = 'f1',\n",
        "    verbose = 2,\n",
        "    n_jobs = -1\n",
        "    )\n",
        "\n",
        "clf.fit(X_train, y_train)"
      ]
    },
    {
      "cell_type": "code",
      "execution_count": null,
      "metadata": {
        "colab": {
          "base_uri": "https://localhost:8080/"
        },
        "id": "7pQnghIZ3iPh",
        "outputId": "e0be0400-a535-45b1-b224-f8672ea4340c"
      },
      "outputs": [
        {
          "name": "stdout",
          "output_type": "stream",
          "text": [
            "최적 하이퍼파라미터:  {'simpleimputer__strategy': 'constant', 'randomforestclassifier__n_estimators': 94, 'randomforestclassifier__max_depth': 18}\n",
            "f1:  0.5602403446253788\n"
          ]
        }
      ],
      "source": [
        "# 튜닝된 하이퍼파라미터 확인\n",
        "print('최적 하이퍼파라미터: ', clf.best_params_)\n",
        "print('f1: ', clf.best_score_)"
      ]
    },
    {
      "cell_type": "code",
      "execution_count": null,
      "metadata": {
        "id": "0qN3TnVmrbcx"
      },
      "outputs": [],
      "source": [
        "# 만들어진 모델에서 가장 성능이 좋은 모델을 불러옵니다.\n",
        "pipe = clf.best_estimator_\n",
        "\n",
        "# test 데이터 예측 및 저장\n",
        "y_pred = pipe.predict(X_test)\n",
        "y_test[\"vacc_h1n1_f\"] = y_pred \n",
        "y_test.to_csv(\"submission_4.csv\")"
      ]
    },
    {
      "cell_type": "markdown",
      "metadata": {
        "id": "LSNqUCfNfD05"
      },
      "source": [
        "## 🔥 도전과제(Github - Discussion)"
      ]
    },
    {
      "cell_type": "markdown",
      "metadata": {
        "id": "BderZOf-fD05"
      },
      "source": [
        "\n",
        "### 2) [`GridSearchCV`](https://scikit-learn.org/stable/modules/generated/sklearn.model_selection.GridSearchCV.html) 를 사용하여 하이퍼파라미터 튜닝을 진행합니다.\n",
        "- 모델 성능을 높이기 위해 가능한 시도를 다 해보세요.\n",
        "- 모델 성능 개선에 가장 큰 영향을 준 특성공학이나 하이퍼파라미터 튜닝에 대해서 왜 성능 개선에 큰 영향을 주었는지 설명해 보시고 서로의 결과에 대해 공유하고 토론해 보세요. \n",
        "\n"
      ]
    },
    {
      "cell_type": "code",
      "execution_count": null,
      "metadata": {
        "id": "J92fWBcVfD05"
      },
      "outputs": [],
      "source": [
        "### 이곳에서 과제를 진행해 주세요 ### "
      ]
    }
  ],
  "metadata": {
    "accelerator": "GPU",
    "colab": {
      "name": "n224a_model_selection (1).ipynb",
      "provenance": []
    },
    "kernelspec": {
      "display_name": "Python 3",
      "language": "python",
      "name": "python3"
    },
    "language_info": {
      "codemirror_mode": {
        "name": "ipython",
        "version": 3
      },
      "file_extension": ".py",
      "mimetype": "text/x-python",
      "name": "python",
      "nbconvert_exporter": "python",
      "pygments_lexer": "ipython3",
      "version": "3.8.1"
    }
  },
  "nbformat": 4,
  "nbformat_minor": 0
}